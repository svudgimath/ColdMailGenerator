{
 "cells": [
  {
   "cell_type": "code",
   "execution_count": 8,
   "id": "3bb19657-cd6f-4c17-9495-5fad3c092b51",
   "metadata": {},
   "outputs": [
    {
     "name": "stdout",
     "output_type": "stream",
     "text": [
      "The first person to land on the moon was Neil Armstrong. He stepped onto the lunar surface on July 20, 1969, as part of the Apollo 11 mission.\n"
     ]
    }
   ],
   "source": [
    "from langchain_groq import ChatGroq\n",
    "\n",
    "llm = ChatGroq(\n",
    "    temperature=0,\n",
    "    groq_api_key='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',\n",
    "    model_name=\"llama-3.1-70b-versatile\"\n",
    ")\n",
    "response=llm.invoke(\"THe first person to land on moon was..\")\n",
    "print(response.content)"
   ]
  },
  {
   "cell_type": "code",
   "execution_count": 19,
   "id": "39b23c85-d86a-46e7-9e5e-17374934b76a",
   "metadata": {},
   "outputs": [
    {
     "name": "stdout",
     "output_type": "stream",
     "text": [
      "Job Application for Junior Business Analyst  at mthree Recruiting PortalJunior Business Analyst Tampa, Florida, United StatesApplyIf you’ve always dreamt of an exciting career in Banking, Finance and Tech, now’s the time to make it a reality.\n",
      "Here at mthree, we pair talented graduates with leading global businesses. We’re always on the lookout for ambitious graduates to join the mthree Alumni Graduate Program, kick-starting your career within an entry-level Business Analyst role and working onsite with a leading fintech organization in various locations throughout North America. We are currently looking for recent graduates to join our training program, with the opportunity to land a role with one of our leading Fortune 500 partners. These roles are responsible for providing various teams with data analysis, reporting and insights. \n",
      "As part of the mthree Alumni program, mthree has an exciting and exclusive partnership with Columbia Univ. School of Engineering. All mthree Alumni are eligible to receive two Executive Education certificates from Columbia Engineering as part of their Academy and industry placement experience at no cost. Further, all participating Alumni will have access to the Columbia Engineering network and ongoing training.\n",
      " \n",
      "Some of these roles include:\n",
      "\n",
      "Leveraging strong data skills (advanced Excel, GA360 analysis, Tableau is a plus) to develop reports and dashboards. Examples include product performance, user engagement, trend analysis, and insights, highlighting opportunities based on data-driven analysis.\n",
      "Presenting findings to team members, management, and business partners to help drive product and solution direction.\n",
      "Supporting user feedback mechanisms (interviews, surveys, and third-party research to augment and enhance understanding of product successes, opportunities and challenges.\n",
      "Interfacing between and within both business and technical teams.\n",
      "Requirement gathering (i.e., adept at asking questions for information and clarification) meeting facilitation and creating meeting minutes and tracking action items.\n",
      "Supporting development, systems integration testing and user acceptance testing (UAT).\n",
      "Creating and documenting UAT test strategies/plans and test cases/scripts.\n",
      "\n",
      "This pathway is perfect for you if…\n",
      "\n",
      "You have a genuine interest in Banking and Financial Markets.\n",
      "You have a 2.75+ GPA\n",
      "Degree topics we have seen succeed but not limited to include - Business, Accounting, Law, Mathematics, Finance, Banking, Economics.\n",
      "You’re an excellent verbal and written communicator.\n",
      "You’re hungry to learn and upskill.\n",
      "It’s a bonus if you already have experience working in teams in a collaborative environment.\n",
      "\n",
      "How it works….\n",
      "\n",
      "Apply via the form below. You must have an interest and knowledge in Banking and/or regulation.\n",
      "Complete the assessments. You will receive a link to an online assessment, followed by telephone and video interviews.\n",
      "Get trained remotely. You’ll learn everything you need to start your career in banking services. Learning from experts from mthree who have decades of experience, you'll be taught the technical and soft skills that organizations really need. Training is completely free and there are no hidden costs or catches.\n",
      "Work with our careers service to start your career. After the training, you’ll be supported by mthree's careers service which will help you connect with opportunities at some of the world’s most exciting companies.\n",
      "\n",
      "What you’ll learn at the mthree Academy:\n",
      "\n",
      "Knowledge of financial markets, trading and financial regulations.\n",
      "The inner workings of investment banks, from sales to back office processes.\n",
      "The full trade lifecycle; risk; regulation and compliance.\n",
      "Business analysis, data analytics and project skills.\n",
      "How to recognize and combat the exploitation of financial services companies as a vehicle for specific types of financial crime.\n",
      "Excel, SQL, VBA (Visual Basic for Applications), proprietary data processing, reporting tools and applications.\n",
      "\n",
      "What you’ll get:\n",
      "\n",
      "In-depth interactive training in small classes with graduates like you. Our training is created and delivered by industry experts who know your field inside out.\n",
      "A generous graduate salary with pay rises every 9 months to reflect your progress.\n",
      "A flexible benefit package.\n",
      "Ongoing training, support and social events throughout your placement.\n",
      "An opportunity to kickstart your career and gain valuable experience in an attractive and exciting industry.\n",
      "\n",
      "At mthree, our values support courageous teammates, needle movers, and learning champions all while striving to support the health and well-being of all employees.  We take great pride in celebrating the diversity of each individual who contributes to making mthree the company it is today and will be in the future. We value diversity both within mthree and with our partner companies, and we're proud to provide an environment where all our colleagues can flourish. That means promoting a strong culture of equality but, most importantly, inclusion. \n",
      "We are committed to fair, transparent pay, and we strive to provide competitive compensation in addition to a comprehensive benefits package.  The base pay rate for this position is $47,000-$55,000 USD.  This pay rate represents mthree’s good faith and reasonable estimate of the base pay for this role at the time of posting and based on the locations listed in the job advertisement. It is anticipated that qualified candidates selected for a placement will receive this pay rate as a starting salary once onsite with the mthree client, however, the ultimate salary offered for this role may be higher or lower and will be set based on a variety of non-discriminatory factors, including but not limited to, geographic location, skills, and competencies. \n",
      "The stated salary and benefits package will be received once the training in the mthree Academy has been successfully completed and the candidate starts on-site with the mthree client. Trainees are paid a stipend of $125 USD for each day of training they attend (training can be 4-8 weeks); trainees must complete the course to receive payment for training. Training durations vary depending on training pathways and will be disclosed during the recruitment process.\n",
      "All applicants must be currently authorized to work in the United States on a full-time basis. The Company will not sponsor applicants for work visas.\n",
      "--Apply for this job*indicates a required fieldFirst Name*Last Name*Email*Phone*Resume/CV*AttachAttachDropboxGoogle DriveEnter manuallyEnter manuallyAccepted file types: pdf, doc, docx, txt, rtfIf you selected \"Other\" as your school above, please enter the name of your school/ college/ university/ bootcamp here.What are your preferred pronouns?*Select...City of current residence *State of current residence*Select...Country of current residence*Select...Do/will you have a graduating GPA of 2.75 + (or equivalent)?*Select...We hire in multiple locations across the US; please select which locations you're 100% committed to working in and relocating to if offered a position. \n",
      " *All locationsAlpharetta, GABoston, MACharlotte, NCChicago, ILColumbus, OHDallas, TXHouston, TXJersey City, NJLake Mary, FLMaclean, VAMiami, FLNew York, NYOrlando, FLPhiladelphia, PAPhoenix, AZPittsburgh, PAPlano, TXPrinceton, NJRaleigh, NCSalt Lake City, UTSunrise, FLTampa, FLWoodland Park, NJDo you have the permanent and unrestricted right to work in the US for a minimum of 3 years?*Select...Will you now, or in the future, require visa or immigration sponsorship to maintain employment in the US?*Select...Please select how you would like to be contacted to receive further communications from mthree about future news, information, events and opportunities. by email.by phone.I authorize mthree to contact me via SMS. Message and data rates may apply. *Select...Terms \n",
      "SMS Terms & ConditionsBy submitting your information, you agree you have read the Privacy Policy.*Select...Privacy Policy.EducationSchool*Select...Degree*Select...Discipline*Select...Add anotherU.S. Standard Demographic Questions\n",
      "Diversity, Equity & Inclusion: \n",
      "At mthree, we embrace and uphold the principles of equal-opportunity employment. We firmly believe in treating every individual with fairness and respect, free from discrimination on the grounds of race, religion, ethnicity, sex, age, national origin, marital status, parental status, sexual orientation, gender identity, disability, different ability, neurodiversity, status as a veteran/member of the armed forces, or any other legally protected status.\n",
      "Our unwavering commitment extends to fostering an inclusive environment that empowers qualified minorities and advancement within our organization. We continuously strive to improve and ensure that all applicants and employees have an equitable experience throughout their journey with us.\n",
      "Together, let's create a workplace that celebrates diversity, encourages inclusivity, and champions equal opportunities for all. \n",
      "Submitting information is voluntary and your answers in this section will not impact your application through the recruitment process. All information is kept confidential and is collected solely to ensure we’re attracting a diverse population of applicants, to deliver our commitment to diversity.How would you describe your gender identity? (mark all that apply)Select...How would you describe your racial/ethnic background? (mark all that apply)Select...How would you describe your sexual orientation? (mark all that apply)Select...Do you identify as transgender?Select...Do you have a disability or chronic condition (physical, visual, auditory, cognitive, mental, emotional, or other) that substantially limits one or more of your major life activities, including mobility, communication (seeing, hearing, speaking), and learning?Select...Are you a veteran or active member of the United States Armed Forces?Select...Submit applicationPowered byGreenhouseRead our Privacy Policy\n"
     ]
    }
   ],
   "source": [
    "from langchain_community.document_loaders import WebBaseLoader\n",
    "\n",
    "loader = WebBaseLoader(\"https://job-boards.greenhouse.io/wileyedgerecruitingportal/jobs/4406212006\")\n",
    "page_data=loader.load().pop().page_content\n",
    "print(page_data)"
   ]
  },
  {
   "cell_type": "code",
   "execution_count": 20,
   "id": "36bbf9f4-f6b8-4da2-9cbd-da752906b016",
   "metadata": {},
   "outputs": [
    {
     "name": "stdout",
     "output_type": "stream",
     "text": [
      "```json\n",
      "{\n",
      "  \"role\": \"Junior Business Analyst\",\n",
      "  \"experience\": \"Entry-level\",\n",
      "  \"skills\": [\n",
      "    \"Advanced Excel\",\n",
      "    \"GA360 analysis\",\n",
      "    \"Tableau\",\n",
      "    \"Data analysis\",\n",
      "    \"Reporting\",\n",
      "    \"Insights\",\n",
      "    \"Verbal and written communication\",\n",
      "    \"Teamwork\",\n",
      "    \"Collaboration\",\n",
      "    \"SQL\",\n",
      "    \"VBA (Visual Basic for Applications)\",\n",
      "    \"Proprietary data processing\",\n",
      "    \"Reporting tools and applications\"\n",
      "  ],\n",
      "  \"description\": \"We are looking for recent graduates to join our training program, with the opportunity to land a role with one of our leading Fortune 500 partners. As a Junior Business Analyst, you will be responsible for providing various teams with data analysis, reporting and insights. You will leverage strong data skills to develop reports and dashboards, present findings to team members, management, and business partners, and support user feedback mechanisms. You will also interface between and within both business and technical teams, gather requirements, facilitate meetings, and create meeting minutes and track action items.\"\n",
      "}\n",
      "```\n"
     ]
    }
   ],
   "source": [
    "from langchain_core.prompts import PromptTemplate\n",
    "\n",
    "prompt_extract=PromptTemplate.from_template(\n",
    "    \"\"\"\n",
    "    ### SCRAPED TEXT FROM WEBSITE:\n",
    "    {page_data}\n",
    "    ###INSTRUCTION:\n",
    "    The scraped text is from the career's page of a website.\n",
    "    Your job is to extract the job postings and return them in JSON format containing the following keys:'role','experience','skills' and 'description'.\n",
    "    Only return the valid JSON.\n",
    "    ### VALID JSON (NO PREAMBLE):\n",
    "    \"\"\"\n",
    ")\n",
    "chain_extract=prompt_extract | llm\n",
    "res=chain_extract.invoke(input={'page_data':page_data})\n",
    "print(res.content)"
   ]
  },
  {
   "cell_type": "code",
   "execution_count": 21,
   "id": "d75dba91-590f-4078-bb64-e86960d482ed",
   "metadata": {},
   "outputs": [
    {
     "data": {
      "text/plain": [
       "str"
      ]
     },
     "execution_count": 21,
     "metadata": {},
     "output_type": "execute_result"
    }
   ],
   "source": [
    "type(res.content)"
   ]
  },
  {
   "cell_type": "code",
   "execution_count": 23,
   "id": "f2844923-d40d-438e-b786-32892ecee67b",
   "metadata": {},
   "outputs": [
    {
     "data": {
      "text/plain": [
       "{'role': 'Junior Business Analyst',\n",
       " 'experience': 'Entry-level',\n",
       " 'skills': ['Advanced Excel',\n",
       "  'GA360 analysis',\n",
       "  'Tableau',\n",
       "  'Data analysis',\n",
       "  'Reporting',\n",
       "  'Insights',\n",
       "  'Verbal and written communication',\n",
       "  'Teamwork',\n",
       "  'Collaboration',\n",
       "  'SQL',\n",
       "  'VBA (Visual Basic for Applications)',\n",
       "  'Proprietary data processing',\n",
       "  'Reporting tools and applications'],\n",
       " 'description': 'We are looking for recent graduates to join our training program, with the opportunity to land a role with one of our leading Fortune 500 partners. As a Junior Business Analyst, you will be responsible for providing various teams with data analysis, reporting and insights. You will leverage strong data skills to develop reports and dashboards, present findings to team members, management, and business partners, and support user feedback mechanisms. You will also interface between and within both business and technical teams, gather requirements, facilitate meetings, and create meeting minutes and track action items.'}"
      ]
     },
     "execution_count": 23,
     "metadata": {},
     "output_type": "execute_result"
    }
   ],
   "source": [
    "from langchain_core.output_parsers import JsonOutputParser\n",
    "\n",
    "json_parser=JsonOutputParser()\n",
    "json_res=json_parser.parse(res.content)\n",
    "json_res"
   ]
  },
  {
   "cell_type": "code",
   "execution_count": 25,
   "id": "68d3088c-5434-41d7-a1f2-989af9749061",
   "metadata": {},
   "outputs": [
    {
     "data": {
      "text/plain": [
       "dict"
      ]
     },
     "execution_count": 25,
     "metadata": {},
     "output_type": "execute_result"
    }
   ],
   "source": [
    "type(json_res)"
   ]
  },
  {
   "cell_type": "code",
   "execution_count": 26,
   "id": "50933201-df96-4e8d-8ca3-35fe7cc47a1d",
   "metadata": {},
   "outputs": [
    {
     "data": {
      "text/html": [
       "<div>\n",
       "<style scoped>\n",
       "    .dataframe tbody tr th:only-of-type {\n",
       "        vertical-align: middle;\n",
       "    }\n",
       "\n",
       "    .dataframe tbody tr th {\n",
       "        vertical-align: top;\n",
       "    }\n",
       "\n",
       "    .dataframe thead th {\n",
       "        text-align: right;\n",
       "    }\n",
       "</style>\n",
       "<table border=\"1\" class=\"dataframe\">\n",
       "  <thead>\n",
       "    <tr style=\"text-align: right;\">\n",
       "      <th></th>\n",
       "      <th>Techstack</th>\n",
       "      <th>Links</th>\n",
       "    </tr>\n",
       "  </thead>\n",
       "  <tbody>\n",
       "    <tr>\n",
       "      <th>0</th>\n",
       "      <td>React, Node.js, MongoDB</td>\n",
       "      <td>https://example.com/react-portfolio</td>\n",
       "    </tr>\n",
       "    <tr>\n",
       "      <th>1</th>\n",
       "      <td>Angular, .NET, SQL Server</td>\n",
       "      <td>https://example.com/angular-portfolio</td>\n",
       "    </tr>\n",
       "    <tr>\n",
       "      <th>2</th>\n",
       "      <td>Vue.js, Ruby on Rails, PostgreSQL</td>\n",
       "      <td>https://example.com/vue-portfolio</td>\n",
       "    </tr>\n",
       "    <tr>\n",
       "      <th>3</th>\n",
       "      <td>Python, Django, MySQL</td>\n",
       "      <td>https://example.com/python-portfolio</td>\n",
       "    </tr>\n",
       "    <tr>\n",
       "      <th>4</th>\n",
       "      <td>Java, Spring Boot, Oracle</td>\n",
       "      <td>https://example.com/java-portfolio</td>\n",
       "    </tr>\n",
       "    <tr>\n",
       "      <th>5</th>\n",
       "      <td>Flutter, Firebase, GraphQL</td>\n",
       "      <td>https://example.com/flutter-portfolio</td>\n",
       "    </tr>\n",
       "    <tr>\n",
       "      <th>6</th>\n",
       "      <td>WordPress, PHP, MySQL</td>\n",
       "      <td>https://example.com/wordpress-portfolio</td>\n",
       "    </tr>\n",
       "    <tr>\n",
       "      <th>7</th>\n",
       "      <td>Magento, PHP, MySQL</td>\n",
       "      <td>https://example.com/magento-portfolio</td>\n",
       "    </tr>\n",
       "    <tr>\n",
       "      <th>8</th>\n",
       "      <td>React Native, Node.js, MongoDB</td>\n",
       "      <td>https://example.com/react-native-portfolio</td>\n",
       "    </tr>\n",
       "    <tr>\n",
       "      <th>9</th>\n",
       "      <td>iOS, Swift, Core Data</td>\n",
       "      <td>https://example.com/ios-portfolio</td>\n",
       "    </tr>\n",
       "    <tr>\n",
       "      <th>10</th>\n",
       "      <td>Android, Java, Room Persistence</td>\n",
       "      <td>https://example.com/android-portfolio</td>\n",
       "    </tr>\n",
       "    <tr>\n",
       "      <th>11</th>\n",
       "      <td>Kotlin, Android, Firebase</td>\n",
       "      <td>https://example.com/kotlin-android-portfolio</td>\n",
       "    </tr>\n",
       "    <tr>\n",
       "      <th>12</th>\n",
       "      <td>Android TV, Kotlin, Android NDK</td>\n",
       "      <td>https://example.com/android-tv-portfolio</td>\n",
       "    </tr>\n",
       "    <tr>\n",
       "      <th>13</th>\n",
       "      <td>iOS,Swift, ARKit</td>\n",
       "      <td>https://example.com/ios-ar-portfolio</td>\n",
       "    </tr>\n",
       "    <tr>\n",
       "      <th>14</th>\n",
       "      <td>Cross-platform, Xamarin, Azure</td>\n",
       "      <td>https://example.com/xamarin-portfolio</td>\n",
       "    </tr>\n",
       "    <tr>\n",
       "      <th>15</th>\n",
       "      <td>Backend, Kotlin, Spring Boot</td>\n",
       "      <td>https://example.com/kotlin-backend-portfolio</td>\n",
       "    </tr>\n",
       "    <tr>\n",
       "      <th>16</th>\n",
       "      <td>Frontend, TypeScript, Angular</td>\n",
       "      <td>https://example.com/typescript-frontend-portfolio</td>\n",
       "    </tr>\n",
       "    <tr>\n",
       "      <th>17</th>\n",
       "      <td>Full-stack, JavaScript, Express.js</td>\n",
       "      <td>https://example.com/full-stack-js-portfolio</td>\n",
       "    </tr>\n",
       "    <tr>\n",
       "      <th>18</th>\n",
       "      <td>Machine Learning, Python, TensorFlow</td>\n",
       "      <td>https://example.com/ml-python-portfolio</td>\n",
       "    </tr>\n",
       "    <tr>\n",
       "      <th>19</th>\n",
       "      <td>DevOps, Jenkins, Docker</td>\n",
       "      <td>https://example.com/devops-portfolio</td>\n",
       "    </tr>\n",
       "  </tbody>\n",
       "</table>\n",
       "</div>"
      ],
      "text/plain": [
       "                               Techstack  \\\n",
       "0                React, Node.js, MongoDB   \n",
       "1              Angular, .NET, SQL Server   \n",
       "2      Vue.js, Ruby on Rails, PostgreSQL   \n",
       "3                  Python, Django, MySQL   \n",
       "4              Java, Spring Boot, Oracle   \n",
       "5             Flutter, Firebase, GraphQL   \n",
       "6                  WordPress, PHP, MySQL   \n",
       "7                    Magento, PHP, MySQL   \n",
       "8         React Native, Node.js, MongoDB   \n",
       "9                  iOS, Swift, Core Data   \n",
       "10       Android, Java, Room Persistence   \n",
       "11             Kotlin, Android, Firebase   \n",
       "12       Android TV, Kotlin, Android NDK   \n",
       "13                      iOS,Swift, ARKit   \n",
       "14        Cross-platform, Xamarin, Azure   \n",
       "15          Backend, Kotlin, Spring Boot   \n",
       "16         Frontend, TypeScript, Angular   \n",
       "17    Full-stack, JavaScript, Express.js   \n",
       "18  Machine Learning, Python, TensorFlow   \n",
       "19               DevOps, Jenkins, Docker   \n",
       "\n",
       "                                                Links  \n",
       "0                 https://example.com/react-portfolio  \n",
       "1               https://example.com/angular-portfolio  \n",
       "2                   https://example.com/vue-portfolio  \n",
       "3                https://example.com/python-portfolio  \n",
       "4                  https://example.com/java-portfolio  \n",
       "5               https://example.com/flutter-portfolio  \n",
       "6             https://example.com/wordpress-portfolio  \n",
       "7               https://example.com/magento-portfolio  \n",
       "8          https://example.com/react-native-portfolio  \n",
       "9                   https://example.com/ios-portfolio  \n",
       "10              https://example.com/android-portfolio  \n",
       "11       https://example.com/kotlin-android-portfolio  \n",
       "12           https://example.com/android-tv-portfolio  \n",
       "13               https://example.com/ios-ar-portfolio  \n",
       "14              https://example.com/xamarin-portfolio  \n",
       "15       https://example.com/kotlin-backend-portfolio  \n",
       "16  https://example.com/typescript-frontend-portfolio  \n",
       "17        https://example.com/full-stack-js-portfolio  \n",
       "18            https://example.com/ml-python-portfolio  \n",
       "19               https://example.com/devops-portfolio  "
      ]
     },
     "execution_count": 26,
     "metadata": {},
     "output_type": "execute_result"
    }
   ],
   "source": [
    "import pandas as pd\n",
    "df=pd.read_csv(\"portfolio.csv\")\n",
    "df"
   ]
  },
  {
   "cell_type": "code",
   "execution_count": 29,
   "id": "802f9633-27f4-4d7b-864e-25e10fb6949a",
   "metadata": {},
   "outputs": [
    {
     "name": "stderr",
     "output_type": "stream",
     "text": [
      "C:\\Users\\Sathwik\\.cache\\chroma\\onnx_models\\all-MiniLM-L6-v2\\onnx.tar.gz: 100%|███| 79.3M/79.3M [00:02<00:00, 31.1MiB/s]\n"
     ]
    }
   ],
   "source": [
    "import chromadb\n",
    "import uuid\n",
    "client=chromadb.PersistentClient('vectorstore')\n",
    "collection=client.get_or_create_collection(name=\"portfolio\")\n",
    "if not collection.count():\n",
    "    for _, row in df.iterrows():\n",
    "        collection.add(documents=row[\"Techstack\"],\n",
    "                       metadatas={\"links\": row[\"Links\"]},\n",
    "                       ids=[str(uuid.uuid4())])"
   ]
  },
  {
   "cell_type": "code",
   "execution_count": null,
   "id": "35a9187f-af22-4316-b88d-ad2af6f6fa67",
   "metadata": {},
   "outputs": [],
   "source": []
  }
 ],
 "metadata": {
  "kernelspec": {
   "display_name": "Python 3 (ipykernel)",
   "language": "python",
   "name": "python3"
  },
  "language_info": {
   "codemirror_mode": {
    "name": "ipython",
    "version": 3
   },
   "file_extension": ".py",
   "mimetype": "text/x-python",
   "name": "python",
   "nbconvert_exporter": "python",
   "pygments_lexer": "ipython3",
   "version": "3.12.0"
  }
 },
 "nbformat": 4,
 "nbformat_minor": 5
}
